{
 "cells": [
  {
   "cell_type": "code",
   "execution_count": 1,
   "id": "9a72fbef",
   "metadata": {},
   "outputs": [],
   "source": [
    "import numpy as np\n",
    "import pandas as pd\n",
    "import matplotlib.pyplot as plt\n",
    "import seaborn as sns\n",
    "import sys\n",
    "sys.path.append('../..')  # Adjust the path as necessary to import from model package\n",
    "\n",
    "from sklearn.preprocessing import StandardScaler\n",
    "from sklearn.decomposition import PCA\n",
    "from sklearn.model_selection import train_test_split\n",
    "from sklearn.linear_model import LogisticRegression\n",
    "from sklearn.metrics import confusion_matrix, classification_report"
   ]
  },
  {
   "cell_type": "code",
   "execution_count": 2,
   "id": "3ef55f9a",
   "metadata": {},
   "outputs": [],
   "source": [
    "from model.data.loaders.loader_xgboost import load_data_h5\n",
    "\n",
    "h5_path = '../data/train/methylation.h5'\n",
    "id_path = '../data/train/idmap.csv'\n",
    "X, y = load_data_h5(h5_path, id_path, indices=None)"
   ]
  },
  {
   "cell_type": "code",
   "execution_count": 5,
   "id": "ce0782b1",
   "metadata": {},
   "outputs": [
    {
     "name": "stdout",
     "output_type": "stream",
     "text": [
      "(1026, 1000)\n"
     ]
    }
   ],
   "source": [
    "pca = PCA(n_components=1000, n_oversamples=50, power_iteration_normalizer='auto', svd_solver='randomized', random_state=42)\n",
    "X_pca = pca.fit_transform(X)\n",
    "print(X_pca.shape)"
   ]
  },
  {
   "cell_type": "code",
   "execution_count": 6,
   "id": "dc8bb763",
   "metadata": {},
   "outputs": [
    {
     "name": "stdout",
     "output_type": "stream",
     "text": [
      "(1000, 1000)\n",
      "0      1\n",
      "1      1\n",
      "2      1\n",
      "3      1\n",
      "4      1\n",
      "      ..\n",
      "995    1\n",
      "996    1\n",
      "997    1\n",
      "998    1\n",
      "999    1\n",
      "Length: 1000, dtype: int64\n"
     ]
    }
   ],
   "source": [
    "df = pd.DataFrame(X_pca)\n",
    "corr_matrix = df.corr()\n",
    "print(corr_matrix.shape)\n",
    "\n",
    "# Get in each column the number of correlations above 0.7\n",
    "high_corr = (corr_matrix > 0.7).sum()\n",
    "print(high_corr)"
   ]
  }
 ],
 "metadata": {
  "kernelspec": {
   "display_name": "venv",
   "language": "python",
   "name": "python3"
  },
  "language_info": {
   "codemirror_mode": {
    "name": "ipython",
    "version": 3
   },
   "file_extension": ".py",
   "mimetype": "text/x-python",
   "name": "python",
   "nbconvert_exporter": "python",
   "pygments_lexer": "ipython3",
   "version": "3.12.10"
  }
 },
 "nbformat": 4,
 "nbformat_minor": 5
}
