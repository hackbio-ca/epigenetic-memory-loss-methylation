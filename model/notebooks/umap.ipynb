{
 "cells": [
  {
   "cell_type": "markdown",
   "id": "cee8306a",
   "metadata": {},
   "source": [
    "### Introduction\n",
    "\n",
    "UMAP is a method that can allow the spatial recognition of a relationship between the input data and the associated labels. It reduced the dimensions of the data into 2D and classifies them into"
   ]
  },
  {
   "cell_type": "code",
   "execution_count": null,
   "id": "6f8b311c",
   "metadata": {},
   "outputs": [],
   "source": [
    "import numpy as np\n",
    "import pandas as pd\n",
    "import matplotlib.pyplot as plt\n",
    "import seaborn as sns\n",
    "\n",
    "# For feature selection\n",
    "from scipy import stats\n",
    "from statsmodels.stats.multitest import multipletests\n",
    "from sklearn.feature_selection import SelectKBest, f_classif\n",
    "\n",
    "# For dimensionality reduction\n",
    "import umap\n",
    "\n",
    "# For optional scaling\n",
    "from sklearn.preprocessing import StandardScaler\n",
    "import warnings\n",
    "warnings.filterwarnings('ignore') # Suppress common warnings for cleaner output"
   ]
  }
 ],
 "metadata": {
  "language_info": {
   "name": "python"
  }
 },
 "nbformat": 4,
 "nbformat_minor": 5
}
