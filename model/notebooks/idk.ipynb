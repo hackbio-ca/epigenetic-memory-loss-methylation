{
 "cells": [
  {
   "cell_type": "code",
   "execution_count": 2,
   "id": "6b807051",
   "metadata": {},
   "outputs": [
    {
     "name": "stdout",
     "output_type": "stream",
     "text": [
      "191545\n"
     ]
    }
   ],
   "source": [
    "import numpy as np\n",
    "import pandas as pd\n",
    "import sys\n",
    "sys.path.append('../..')\n",
    "\n",
    "from model.data.loaders.loader_xgboost import load_data_h5\n",
    "\n",
    "methyl_path = '../data/train/methylation.h5'\n",
    "id_path = '../data/train/idmap.csv'\n",
    "X, y = load_data_h5(methyl_path, id_path, indices=None)\n",
    "\n",
    "variance = { i: np.var(X[:, i]) for i in range(X.shape[1]) }\n",
    "variance = { i: v for i, v in variance.items() if not np.isnan(v) }\n",
    "median_var = np.median(list(variance.values()))\n",
    "variance = { i: v for i, v in variance.items() if v >= median_var }\n",
    "print(len(variance))"
   ]
  }
 ],
 "metadata": {
  "kernelspec": {
   "display_name": "venv",
   "language": "python",
   "name": "python3"
  },
  "language_info": {
   "codemirror_mode": {
    "name": "ipython",
    "version": 3
   },
   "file_extension": ".py",
   "mimetype": "text/x-python",
   "name": "python",
   "nbconvert_exporter": "python",
   "pygments_lexer": "ipython3",
   "version": "3.12.10"
  }
 },
 "nbformat": 4,
 "nbformat_minor": 5
}
